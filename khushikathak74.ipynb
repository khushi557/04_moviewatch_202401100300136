{
  "nbformat": 4,
  "nbformat_minor": 0,
  "metadata": {
    "colab": {
      "provenance": []
    },
    "kernelspec": {
      "name": "python3",
      "display_name": "Python 3"
    },
    "language_info": {
      "name": "python"
    }
  },
  "cells": [
    {
      "cell_type": "code",
      "source": [
        "\n",
        "\n",
        "import pandas as pd\n",
        "from sklearn.cluster import KMeans\n",
        "from sklearn.preprocessing import LabelEncoder\n",
        "\n",
        "\n",
        "df = pd.read_csv(\"/movie_watch.csv\")\n",
        "le = LabelEncoder()\n",
        "df['genre_encoded'] = le.fit_transform(df['genre_preference'])\n",
        "features = df[['watch_time_hour', 'genre_encoded', 'avg_rating_given']]\n",
        "\n",
        "\n",
        "kmeans = KMeans(n_clusters=3)\n",
        "kmeans.fit(features)\n",
        "labels = kmeans.labels_\n",
        "\n",
        "\n",
        "df['cluster'] = labels\n",
        "\n",
        "\n",
        "print(df[['watch_time_hour', 'genre_encoded', 'avg_rating_given', 'cluster']])"
      ],
      "metadata": {
        "colab": {
          "base_uri": "https://localhost:8080/"
        },
        "id": "woqTeWOT6bdv",
        "outputId": "f505d435-6fa1-452c-feaa-90ff419962df"
      },
      "execution_count": 12,
      "outputs": [
        {
          "output_type": "stream",
          "name": "stdout",
          "text": [
            "    watch_time_hour  genre_encoded  avg_rating_given  cluster\n",
            "0                13              0          2.037554        0\n",
            "1                 4              1          1.350365        1\n",
            "2                15              3          1.359665        0\n",
            "3                14              3          1.772998        0\n",
            "4                14              1          1.202237        0\n",
            "..              ...            ...               ...      ...\n",
            "95                8              0          1.073545        1\n",
            "96               22              1          2.856267        2\n",
            "97                9              0          4.772248        1\n",
            "98               18              0          2.295278        2\n",
            "99               14              3          3.644563        0\n",
            "\n",
            "[100 rows x 4 columns]\n"
          ]
        }
      ]
    }
  ]
}